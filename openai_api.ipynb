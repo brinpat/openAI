{
 "cells": [
  {
   "cell_type": "code",
   "execution_count": 1,
   "id": "65e1bc7f",
   "metadata": {
    "scrolled": true
   },
   "outputs": [
    {
     "name": "stdout",
     "output_type": "stream",
     "text": [
      "Requirement already satisfied: openai in c:\\users\\brinp\\appdata\\local\\programs\\python\\python310\\lib\\site-packages (0.25.0)\n",
      "Requirement already satisfied: openpyxl>=3.0.7 in c:\\users\\brinp\\appdata\\local\\programs\\python\\python310\\lib\\site-packages (from openai) (3.0.10)\n",
      "Requirement already satisfied: pandas>=1.2.3 in c:\\users\\brinp\\appdata\\local\\programs\\python\\python310\\lib\\site-packages (from openai) (1.5.2)\n",
      "Requirement already satisfied: typing-extensions in c:\\users\\brinp\\appdata\\local\\programs\\python\\python310\\lib\\site-packages (from openai) (4.4.0)\n",
      "Requirement already satisfied: requests>=2.20 in c:\\users\\brinp\\appdata\\local\\programs\\python\\python310\\lib\\site-packages (from openai) (2.27.1)\n",
      "Requirement already satisfied: numpy in c:\\users\\brinp\\appdata\\local\\programs\\python\\python310\\lib\\site-packages (from openai) (1.24.0)\n",
      "Requirement already satisfied: tqdm in c:\\users\\brinp\\appdata\\local\\programs\\python\\python310\\lib\\site-packages (from openai) (4.64.1)\n",
      "Requirement already satisfied: pandas-stubs>=1.1.0.11 in c:\\users\\brinp\\appdata\\local\\programs\\python\\python310\\lib\\site-packages (from openai) (1.5.2.221213)\n",
      "Requirement already satisfied: et-xmlfile in c:\\users\\brinp\\appdata\\local\\programs\\python\\python310\\lib\\site-packages (from openpyxl>=3.0.7->openai) (1.1.0)\n",
      "Requirement already satisfied: pytz>=2020.1 in c:\\users\\brinp\\appdata\\local\\programs\\python\\python310\\lib\\site-packages (from pandas>=1.2.3->openai) (2022.7)\n",
      "Requirement already satisfied: python-dateutil>=2.8.1 in c:\\users\\brinp\\appdata\\roaming\\python\\python310\\site-packages (from pandas>=1.2.3->openai) (2.8.2)\n",
      "Requirement already satisfied: types-pytz>=2022.1.1 in c:\\users\\brinp\\appdata\\local\\programs\\python\\python310\\lib\\site-packages (from pandas-stubs>=1.1.0.11->openai) (2022.7.0.0)\n",
      "Requirement already satisfied: urllib3<1.27,>=1.21.1 in c:\\users\\brinp\\appdata\\local\\programs\\python\\python310\\lib\\site-packages (from requests>=2.20->openai) (1.26.13)\n",
      "Requirement already satisfied: idna<4,>=2.5 in c:\\users\\brinp\\appdata\\local\\programs\\python\\python310\\lib\\site-packages (from requests>=2.20->openai) (3.4)\n",
      "Requirement already satisfied: certifi>=2017.4.17 in c:\\users\\brinp\\appdata\\local\\programs\\python\\python310\\lib\\site-packages (from requests>=2.20->openai) (2022.12.7)\n",
      "Requirement already satisfied: charset-normalizer~=2.0.0 in c:\\users\\brinp\\appdata\\local\\programs\\python\\python310\\lib\\site-packages (from requests>=2.20->openai) (2.0.12)\n",
      "Requirement already satisfied: colorama in c:\\users\\brinp\\appdata\\roaming\\python\\python310\\site-packages (from tqdm->openai) (0.4.6)\n",
      "Requirement already satisfied: six>=1.5 in c:\\users\\brinp\\appdata\\roaming\\python\\python310\\site-packages (from python-dateutil>=2.8.1->pandas>=1.2.3->openai) (1.16.0)\n",
      "Note: you may need to restart the kernel to use updated packages.\n"
     ]
    }
   ],
   "source": [
    "pip install openai"
   ]
  },
  {
   "cell_type": "code",
   "execution_count": 2,
   "id": "4fe0b5c1",
   "metadata": {},
   "outputs": [],
   "source": [
    "import openai\n",
    "import webbrowser"
   ]
  },
  {
   "cell_type": "code",
   "execution_count": 3,
   "id": "aa1a5b9f",
   "metadata": {},
   "outputs": [],
   "source": [
    "def questions(question):\n",
    "    # https://beta.openai.com/account/api-keys\n",
    "    openai.api_key = '' \n",
    "    model_engine = 'text-davinci-003'\n",
    "    completions = openai.Completion.create(engine=model_engine, prompt=question, max_tokens=1024, n=1,stop=None,temperature=0)\n",
    "\n",
    "    # https://beta.openai.com/docs/api-reference/completions/create\n",
    "    message = completions.choices[0].text\n",
    "    print(message)"
   ]
  },
  {
   "cell_type": "code",
   "execution_count": 4,
   "id": "e5ba6de2",
   "metadata": {},
   "outputs": [],
   "source": [
    "def image_gen(im, amount):\n",
    "  i = 0\n",
    "  while i<amount:\n",
    "      \n",
    "      response = openai.Image.create(\n",
    "        prompt=im,\n",
    "        n=1,\n",
    "        size=\"1024x1024\"\n",
    "      )\n",
    "      image_url = response['data'][0]['url']\n",
    "      image_url\n",
    "\n",
    "      webbrowser.open(image_url)\n",
    "      i+=1"
   ]
  },
  {
   "cell_type": "code",
   "execution_count": 6,
   "id": "d2cce992",
   "metadata": {},
   "outputs": [
    {
     "name": "stdout",
     "output_type": "stream",
     "text": [
      "\n",
      "\n",
      "The sky is the atmosphere and outer space visible from Earth's surface. It is a vast and complex expanse of blue, white, and gray hues, filled with clouds, stars, and other celestial bodies.\n"
     ]
    }
   ],
   "source": [
    "questions(input('Ask a question: '))"
   ]
  },
  {
   "cell_type": "code",
   "execution_count": 8,
   "id": "ae315b48",
   "metadata": {},
   "outputs": [],
   "source": [
    "image_gen(input('Generate image: '),5)"
   ]
  },
  {
   "cell_type": "code",
   "execution_count": null,
   "id": "98783c9f",
   "metadata": {},
   "outputs": [],
   "source": []
  }
 ],
 "metadata": {
  "kernelspec": {
   "display_name": "Python 3",
   "language": "python",
   "name": "python3"
  },
  "language_info": {
   "codemirror_mode": {
    "name": "ipython",
    "version": 3
   },
   "file_extension": ".py",
   "mimetype": "text/x-python",
   "name": "python",
   "nbconvert_exporter": "python",
   "pygments_lexer": "ipython3",
   "version": "3.10.0"
  },
  "vscode": {
   "interpreter": {
    "hash": "741705fd04575d5cacdec690caff461f1167aaabf0bb5ad81efc0420bba47e32"
   }
  }
 },
 "nbformat": 4,
 "nbformat_minor": 5
}
